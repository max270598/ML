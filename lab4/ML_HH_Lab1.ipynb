{
 "cells": [
  {
   "cell_type": "code",
   "execution_count": null,
   "metadata": {},
   "outputs": [],
   "source": [
    "import requests\n",
    "vacancy_list = []\n",
    "import matplotlib.pyplot as plt\n",
    "import numpy as np"
   ]
  },
  {
   "cell_type": "code",
   "execution_count": 1,
   "metadata": {},
   "outputs": [],
   "source": [
    "def parse_salary(sal):\n",
    "    if sal == None:\n",
    "        return 0\n",
    "    if sal[\"to\"] == None :\n",
    "        return sal[\"from\"]\n",
    "    if sal[\"from\"] == None:\n",
    "        return sal[\"to\"]\n",
    "    return (sal[\"from\"] + sal[\"to\"])/2"
   ]
  },
  {
   "cell_type": "code",
   "execution_count": 2,
   "metadata": {},
   "outputs": [],
   "source": [
    "for i in range(1,11):\n",
    "    req = 'https://api.hh.ru/vacancies?text=\"big data\" or \"data science\" or \"data analyst\" or \"Big Data Specialist\" or \"machine learning\" or  \"data analytics\" or \"data engineer\" or \"data scientist\" or \"machine learning engineer\" or \"машинное обучение\"&only_with_salary=true&per_page=100&pages=10&period=30&currency=RUR&page=' + str(i)\n",
    "    r = requests.get(req)\n",
    "    parsed_string = r.json()\n",
    "    for item in parsed_string[\"items\"]:\n",
    "        vacancy = {\"salary\":None, \"area\":None, \"name\":None, \"employer\":None}\n",
    "        vacancy[\"salary\"] = parse_salary( item[\"salary\"] )\n",
    "        vacancy[\"area\"] = item[\"area\"][\"name\"]\n",
    "        vacancy[\"name\"]=item[\"name\"]\n",
    "        vacancy[\"employer\"]=item[\"employer\"][\"name\"]\n",
    "        vacancy_list.append(vacancy)"
   ]
  },
  {
   "cell_type": "code",
   "execution_count": 3,
   "metadata": {},
   "outputs": [],
   "source": [
    "for item in parsed_string[\"items\"]:\n",
    "    vacancy = {\"salary\":None, \"area\":None, \"name\":None, \"employer\":None}\n",
    "    vacancy[\"salary\"] = parse_salary( item[\"salary\"] )\n",
    "    vacancy[\"area\"] = item[\"area\"][\"name\"]\n",
    "    vacancy[\"name\"]=item[\"name\"]\n",
    "    vacancy[\"employer\"]=item[\"employer\"][\"name\"]\n",
    "    vacancy_list.append(vacancy)"
   ]
  },
  {
   "cell_type": "code",
   "execution_count": 4,
   "metadata": {},
   "outputs": [],
   "source": [
    "vacancy = {80:0, 120:0, 150:0, 200:0, 300:0, 310:0}\n",
    "\n",
    "for vac in vacancy_list:\n",
    "    if vac[\"salary\"] < 80000:\n",
    "        vacancy[80] = vacancy[80] + 1\n",
    "        continue\n",
    "    if vac[\"salary\"] < 120000 :\n",
    "        vacancy[120] = vacancy[120] + 1\n",
    "        continue\n",
    "    if vac[\"salary\"] < 150000 :\n",
    "        vacancy[150] = vacancy[150] + 1\n",
    "        continue  \n",
    "    if vac[\"salary\"] < 200000 :\n",
    "        vacancy[200] = vacancy[200] + 1\n",
    "        continue\n",
    "    if vac[\"salary\"] < 300000 :\n",
    "        vacancy[300] = vacancy[300] + 1\n",
    "        continue\n",
    "    vacancy[310] = vacancy[310] + 1"
   ]
  },
  {
   "cell_type": "code",
   "execution_count": 5,
   "metadata": {},
   "outputs": [],
   "source": [
    "dict_vacancy = {}\n",
    "for vac in vacancy_list:\n",
    "    dict_vacancy[vac[\"name\"]]=dict_vacancy.get(vac[\"name\"],0)+1\n",
    "tmp = dict((k,v) for k,v in dict_vacancy.items() if v>3 )"
   ]
  },
  {
   "cell_type": "raw",
   "metadata": {},
   "source": [
    "print (vacancy)"
   ]
  },
  {
   "cell_type": "code",
   "execution_count": null,
   "metadata": {},
   "outputs": [],
   "source": [
    "bins = [x*1000 for x in vacancy.keys()]\n",
    "y_pos = np.arange(len(vacancy.keys()))\n",
    "vals = [x for x in vacancy.values()]\n",
    "plt.bar(y_pos, vals, color='r', align='edge', width=-0.8)\n",
    "plt.xticks(y_pos, bins)\n",
    "plt.title(\"Гистограмма зависимости количества вакансий от зарплаты\")\n",
    "plt.xlabel(\"Зарплата\")\n",
    "plt.ylabel(\"Количество вакансий\")\n",
    "\n",
    "plt.show()"
   ]
  },
  {
   "cell_type": "code",
   "execution_count": null,
   "metadata": {},
   "outputs": [],
   "source": [
    "vals = [x for x in tmp.values()]\n",
    "keys = [x for x in tmp.keys()]\n",
    "y_pos = np.arange(len(vals))\n",
    "plt.barh(y_pos,vals, color='pink')\n",
    "plt.yticks(y_pos, keys)\n",
    "plt.xticks(y_pos, range(0, max(vals) + 1, 1))\n",
    "plt.title(\"Количество вакансий по названиям\")\n",
    "plt.show()"
   ]
  },
  {
   "cell_type": "raw",
   "metadata": {},
   "source": []
  }
 ],
 "metadata": {
  "kernelspec": {
   "display_name": "Python 3",
   "language": "python",
   "name": "python3"
  },
  "language_info": {
   "codemirror_mode": {
    "name": "ipython",
    "version": 3
   },
   "file_extension": ".py",
   "mimetype": "text/x-python",
   "name": "python",
   "nbconvert_exporter": "python",
   "pygments_lexer": "ipython3",
   "version": "3.6.4"
  }
 },
 "nbformat": 4,
 "nbformat_minor": 2
}
